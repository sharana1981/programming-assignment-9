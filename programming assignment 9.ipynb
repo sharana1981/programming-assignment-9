{
 "cells": [
  {
   "cell_type": "markdown",
   "id": "645e43f9",
   "metadata": {},
   "source": [
    "# programming assignment 9"
   ]
  },
  {
   "cell_type": "raw",
   "id": "ae00e853",
   "metadata": {},
   "source": [
    "1)Write a Python program to check if the given number is a Disarium Number?"
   ]
  },
  {
   "cell_type": "code",
   "execution_count": null,
   "id": "1e68202a",
   "metadata": {},
   "outputs": [],
   "source": [
    "n=int(input(\"enter the number you want to check:\"))\n",
    "temp=n\n",
    "rem=0\n",
    "sum=0\n",
    "k=len(str(n))\n",
    "while temp>0: \n",
    "    rem=temp%10\n",
    "    sum+=rem**k\n",
    "    temp=temp//10\n",
    "    k-=1\n",
    "if sum==n:\n",
    "     print(\"The number is Disarium number:\",n)\n",
    "else:\n",
    "    print(\"Non Disarium number\")"
   ]
  },
  {
   "cell_type": "raw",
   "id": "adbde9e5",
   "metadata": {},
   "source": [
    "2)Write a Python program to print all disarium numbers between 1 to 100?"
   ]
  },
  {
   "cell_type": "code",
   "execution_count": 52,
   "id": "49ddf059",
   "metadata": {},
   "outputs": [
    {
     "name": "stdout",
     "output_type": "stream",
     "text": [
      "1\n",
      "2\n",
      "3\n",
      "4\n",
      "5\n",
      "6\n",
      "7\n",
      "8\n",
      "9\n",
      "89\n"
     ]
    }
   ],
   "source": [
    "for i in range(1,100):\n",
    "    temp=i\n",
    "    rem=n\n",
    "    sum=0\n",
    "    k=len(str(i))\n",
    "    while temp>0: \n",
    "        rem=temp%10\n",
    "        sum+=rem**k\n",
    "        temp=temp//10\n",
    "        k-=1\n",
    "    if sum==i:\n",
    "        print(i)\n",
    "\n",
    "    "
   ]
  },
  {
   "cell_type": "raw",
   "id": "03aa37b3",
   "metadata": {},
   "source": [
    "3)Write a Python program to check if the given number is Happy Number?"
   ]
  },
  {
   "cell_type": "code",
   "execution_count": 40,
   "id": "d1d9bb5f",
   "metadata": {},
   "outputs": [
    {
     "name": "stdout",
     "output_type": "stream",
     "text": [
      "enter the number to check:85\n",
      "not happy number 85\n"
     ]
    }
   ],
   "source": [
    "n=int(input(\"enter the number to check:\"))\n",
    "l=len(str(n))\n",
    "temp=n\n",
    "rem=0\n",
    "su=0\n",
    "while l>1:\n",
    "    su=0\n",
    "    while temp>0:\n",
    "        rem=temp%10\n",
    "        #print(rem)\n",
    "        su+=rem**2\n",
    "        #print(sum)\n",
    "        temp=temp//10\n",
    "    temp=su\n",
    "    #print(su)\n",
    "    l=len(str(temp))\n",
    "if su==1:\n",
    "    print(\"happy number\",n)\n",
    "else:\n",
    "    print(\"not happy number\",n)\n",
    "    \n",
    "    \n",
    "    "
   ]
  },
  {
   "cell_type": "raw",
   "id": "265bd1c9",
   "metadata": {},
   "source": [
    "4)Write a Python program to print all happy numbers between 1 and 100?"
   ]
  },
  {
   "cell_type": "code",
   "execution_count": 35,
   "id": "79a37495",
   "metadata": {},
   "outputs": [
    {
     "name": "stdout",
     "output_type": "stream",
     "text": [
      "10\n",
      "13\n",
      "19\n",
      "23\n",
      "28\n",
      "31\n",
      "32\n",
      "44\n",
      "49\n",
      "68\n",
      "70\n",
      "79\n",
      "82\n",
      "86\n",
      "91\n",
      "94\n",
      "97\n"
     ]
    }
   ],
   "source": [
    "for i in range(1,100):\n",
    "    n=i\n",
    "    l=len(str(n))\n",
    "    temp=n\n",
    "    rem=0\n",
    "    su=0\n",
    "    while l>1:\n",
    "        su=0\n",
    "        while temp>0:\n",
    "            rem=temp%10\n",
    "            #print(rem)\n",
    "            su+=rem**2\n",
    "            #print(sum)\n",
    "            temp=temp//10\n",
    "        temp=su\n",
    "        #print(su)\n",
    "        l=len(str(temp))\n",
    "    if su==1:\n",
    "        print(i)"
   ]
  },
  {
   "cell_type": "raw",
   "id": "6dfb93ec",
   "metadata": {},
   "source": [
    "5)Write a Python program to determine whether the given number is a Harshad Number?"
   ]
  },
  {
   "cell_type": "code",
   "execution_count": 51,
   "id": "c55793fd",
   "metadata": {},
   "outputs": [
    {
     "name": "stdout",
     "output_type": "stream",
     "text": [
      "enter the number:1980\n",
      "The given number is harshad number 1980\n"
     ]
    }
   ],
   "source": [
    "n=int(input(\"enter the number:\"))\n",
    "temp=n\n",
    "rem=0\n",
    "sum=0\n",
    "while temp>0:\n",
    "    rem=temp%10\n",
    "    sum+=rem\n",
    "    temp=temp//10\n",
    "if n%sum==0:\n",
    "    print(\"The given number is harshad number\",n)\n",
    "else:\n",
    "    print(\"The given number is not Harshad number\")"
   ]
  },
  {
   "cell_type": "code",
   "execution_count": null,
   "id": "dad18711",
   "metadata": {},
   "outputs": [],
   "source": [
    "6)Write a Python program to print all pronic numbers between 1 and 100?"
   ]
  },
  {
   "cell_type": "code",
   "execution_count": 55,
   "id": "5d228490",
   "metadata": {},
   "outputs": [
    {
     "name": "stdout",
     "output_type": "stream",
     "text": [
      "2\n",
      "6\n",
      "12\n",
      "20\n",
      "30\n",
      "42\n",
      "56\n",
      "72\n",
      "90\n"
     ]
    }
   ],
   "source": [
    "for i in range(1,100):\n",
    "    k=i*(i+1)\n",
    "    if k<100:\n",
    "        print(k)\n",
    "    else:\n",
    "        break"
   ]
  },
  {
   "cell_type": "code",
   "execution_count": null,
   "id": "6fd8dfd2",
   "metadata": {},
   "outputs": [],
   "source": []
  }
 ],
 "metadata": {
  "kernelspec": {
   "display_name": "Python 3 (ipykernel)",
   "language": "python",
   "name": "python3"
  },
  "language_info": {
   "codemirror_mode": {
    "name": "ipython",
    "version": 3
   },
   "file_extension": ".py",
   "mimetype": "text/x-python",
   "name": "python",
   "nbconvert_exporter": "python",
   "pygments_lexer": "ipython3",
   "version": "3.9.12"
  }
 },
 "nbformat": 4,
 "nbformat_minor": 5
}
